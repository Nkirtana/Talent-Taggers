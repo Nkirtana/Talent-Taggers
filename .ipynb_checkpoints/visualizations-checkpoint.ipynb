{
 "cells": [
  {
   "cell_type": "code",
   "execution_count": 1,
   "id": "5824603d",
   "metadata": {},
   "outputs": [],
   "source": [
    "# For plotting the data\n",
    "import matplotlib.pyplot as plt\n",
    "\n",
    "\n",
    "# to read multiple files or a single file from a directory\n",
    "from filereader import ReadFiles\n",
    "\n",
    "from datacleaning import CleanData\n",
    "\n",
    "# NLTK imports\n",
    "from nltk.tokenize  import word_tokenize, sent_tokenize"
   ]
  },
  {
   "cell_type": "code",
   "execution_count": 2,
   "id": "2a0b8039",
   "metadata": {},
   "outputs": [],
   "source": [
    "# Enter dataset path here\n",
    "files_path = r\"C:\\Users\\manoj\\Desktop\\dataset\""
   ]
  },
  {
   "cell_type": "code",
   "execution_count": 3,
   "id": "bc8faab3",
   "metadata": {},
   "outputs": [],
   "source": [
    "file_reader_obj = ReadFiles(files_path)\n",
    "file_reader_obj.read_input()"
   ]
  },
  {
   "cell_type": "code",
   "execution_count": 4,
   "id": "66f38701",
   "metadata": {},
   "outputs": [],
   "source": [
    "resumes = list(file_reader_obj.text_dict.values())"
   ]
  },
  {
   "cell_type": "code",
   "execution_count": 5,
   "id": "67581d5f",
   "metadata": {},
   "outputs": [],
   "source": [
    "cd = CleanData()"
   ]
  },
  {
   "cell_type": "code",
   "execution_count": 6,
   "id": "8a1d9762",
   "metadata": {},
   "outputs": [],
   "source": [
    "cd.initialize_text(resumes[0])"
   ]
  },
  {
   "cell_type": "code",
   "execution_count": 7,
   "id": "63e6f267",
   "metadata": {},
   "outputs": [
    {
     "name": "stdout",
     "output_type": "stream",
     "text": [
      "Removed Non-alphanumeric characters, keep_punctuation:False\n",
      "removed white spaces\n",
      "removed stopwords\n",
      "Removed extra spaces\n"
     ]
    }
   ],
   "source": [
    "cd.clean_text()"
   ]
  },
  {
   "cell_type": "code",
   "execution_count": 8,
   "id": "ea529671",
   "metadata": {},
   "outputs": [],
   "source": [
    "toks = word_tokenize(cd.get_output()['output_text'].lower())"
   ]
  },
  {
   "cell_type": "code",
   "execution_count": 9,
   "id": "4452fc21",
   "metadata": {},
   "outputs": [],
   "source": [
    "from nltk import FreqDist"
   ]
  },
  {
   "cell_type": "code",
   "execution_count": null,
   "id": "9154fe09",
   "metadata": {},
   "outputs": [],
   "source": [
    "plt.bar()"
   ]
  },
  {
   "cell_type": "code",
   "execution_count": null,
   "id": "bf929dff",
   "metadata": {},
   "outputs": [],
   "source": []
  }
 ],
 "metadata": {
  "kernelspec": {
   "display_name": "Python 3 (ipykernel)",
   "language": "python",
   "name": "python3"
  },
  "language_info": {
   "codemirror_mode": {
    "name": "ipython",
    "version": 3
   },
   "file_extension": ".py",
   "mimetype": "text/x-python",
   "name": "python",
   "nbconvert_exporter": "python",
   "pygments_lexer": "ipython3",
   "version": "3.10.9"
  }
 },
 "nbformat": 4,
 "nbformat_minor": 5
}
